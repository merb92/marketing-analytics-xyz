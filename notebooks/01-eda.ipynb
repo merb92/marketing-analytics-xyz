{
 "cells": [
  {
   "cell_type": "markdown",
   "metadata": {},
   "source": [
    "# EDA"
   ]
  },
  {
   "cell_type": "markdown",
   "metadata": {},
   "source": [
    "# Imports and Constants"
   ]
  },
  {
   "cell_type": "code",
   "execution_count": 82,
   "metadata": {
    "ExecuteTime": {
     "end_time": "2021-02-20T20:37:51.968012Z",
     "start_time": "2021-02-20T20:37:51.879277Z"
    }
   },
   "outputs": [],
   "source": [
    "import pandas as pd\n",
    "import matplotlib.pyplot as plt\n",
    "%matplotlib inline"
   ]
  },
  {
   "cell_type": "code",
   "execution_count": 56,
   "metadata": {
    "ExecuteTime": {
     "end_time": "2021-02-20T20:25:23.211141Z",
     "start_time": "2021-02-20T20:25:23.206951Z"
    }
   },
   "outputs": [],
   "source": [
    "# Display all the columns of a data frame without truncation\n",
    "pd.set_option('display.max_columns', None)\n",
    "pd.set_option('display.width', None)\n",
    "pd.set_option('display.max_colwidth', None)"
   ]
  },
  {
   "cell_type": "code",
   "execution_count": 57,
   "metadata": {
    "ExecuteTime": {
     "end_time": "2021-02-20T20:25:23.217383Z",
     "start_time": "2021-02-20T20:25:23.214196Z"
    }
   },
   "outputs": [],
   "source": [
    "DATA_PATH = '../data/'\n",
    "DATA_FILE = 'marketing_data.csv'"
   ]
  },
  {
   "cell_type": "markdown",
   "metadata": {},
   "source": [
    "# Read Data File "
   ]
  },
  {
   "cell_type": "code",
   "execution_count": 58,
   "metadata": {
    "ExecuteTime": {
     "end_time": "2021-02-20T20:25:23.535336Z",
     "start_time": "2021-02-20T20:25:23.220232Z"
    }
   },
   "outputs": [],
   "source": [
    "df = pd.read_csv(DATA_PATH + DATA_FILE, skipinitialspace=True, parse_dates=['Dt_Customer'])"
   ]
  },
  {
   "cell_type": "markdown",
   "metadata": {},
   "source": [
    "* **skipinitialspace** was set to true because a leading space was found in the Income column title and may have been elsewhere as well.\n",
    "* **parse_dates** was set because the date column was read in as a string initially"
   ]
  },
  {
   "cell_type": "markdown",
   "metadata": {},
   "source": [
    "# Clean Data"
   ]
  },
  {
   "cell_type": "markdown",
   "metadata": {},
   "source": [
    "## Check that data was loaded correctly"
   ]
  },
  {
   "cell_type": "code",
   "execution_count": 59,
   "metadata": {
    "ExecuteTime": {
     "end_time": "2021-02-20T20:25:23.568150Z",
     "start_time": "2021-02-20T20:25:23.537657Z"
    }
   },
   "outputs": [
    {
     "data": {
      "text/html": [
       "<div>\n",
       "<style scoped>\n",
       "    .dataframe tbody tr th:only-of-type {\n",
       "        vertical-align: middle;\n",
       "    }\n",
       "\n",
       "    .dataframe tbody tr th {\n",
       "        vertical-align: top;\n",
       "    }\n",
       "\n",
       "    .dataframe thead th {\n",
       "        text-align: right;\n",
       "    }\n",
       "</style>\n",
       "<table border=\"1\" class=\"dataframe\">\n",
       "  <thead>\n",
       "    <tr style=\"text-align: right;\">\n",
       "      <th></th>\n",
       "      <th>ID</th>\n",
       "      <th>Year_Birth</th>\n",
       "      <th>Education</th>\n",
       "      <th>Marital_Status</th>\n",
       "      <th>Income</th>\n",
       "      <th>Kidhome</th>\n",
       "      <th>Teenhome</th>\n",
       "      <th>Dt_Customer</th>\n",
       "      <th>Recency</th>\n",
       "      <th>MntWines</th>\n",
       "      <th>MntFruits</th>\n",
       "      <th>MntMeatProducts</th>\n",
       "      <th>MntFishProducts</th>\n",
       "      <th>MntSweetProducts</th>\n",
       "      <th>MntGoldProds</th>\n",
       "      <th>NumDealsPurchases</th>\n",
       "      <th>NumWebPurchases</th>\n",
       "      <th>NumCatalogPurchases</th>\n",
       "      <th>NumStorePurchases</th>\n",
       "      <th>NumWebVisitsMonth</th>\n",
       "      <th>AcceptedCmp3</th>\n",
       "      <th>AcceptedCmp4</th>\n",
       "      <th>AcceptedCmp5</th>\n",
       "      <th>AcceptedCmp1</th>\n",
       "      <th>AcceptedCmp2</th>\n",
       "      <th>Response</th>\n",
       "      <th>Complain</th>\n",
       "      <th>Country</th>\n",
       "    </tr>\n",
       "  </thead>\n",
       "  <tbody>\n",
       "    <tr>\n",
       "      <th>0</th>\n",
       "      <td>1826</td>\n",
       "      <td>1970</td>\n",
       "      <td>Graduation</td>\n",
       "      <td>Divorced</td>\n",
       "      <td>$84,835.00</td>\n",
       "      <td>0</td>\n",
       "      <td>0</td>\n",
       "      <td>2014-06-16</td>\n",
       "      <td>0</td>\n",
       "      <td>189</td>\n",
       "      <td>104</td>\n",
       "      <td>379</td>\n",
       "      <td>111</td>\n",
       "      <td>189</td>\n",
       "      <td>218</td>\n",
       "      <td>1</td>\n",
       "      <td>4</td>\n",
       "      <td>4</td>\n",
       "      <td>6</td>\n",
       "      <td>1</td>\n",
       "      <td>0</td>\n",
       "      <td>0</td>\n",
       "      <td>0</td>\n",
       "      <td>0</td>\n",
       "      <td>0</td>\n",
       "      <td>1</td>\n",
       "      <td>0</td>\n",
       "      <td>SP</td>\n",
       "    </tr>\n",
       "    <tr>\n",
       "      <th>1</th>\n",
       "      <td>1</td>\n",
       "      <td>1961</td>\n",
       "      <td>Graduation</td>\n",
       "      <td>Single</td>\n",
       "      <td>$57,091.00</td>\n",
       "      <td>0</td>\n",
       "      <td>0</td>\n",
       "      <td>2014-06-15</td>\n",
       "      <td>0</td>\n",
       "      <td>464</td>\n",
       "      <td>5</td>\n",
       "      <td>64</td>\n",
       "      <td>7</td>\n",
       "      <td>0</td>\n",
       "      <td>37</td>\n",
       "      <td>1</td>\n",
       "      <td>7</td>\n",
       "      <td>3</td>\n",
       "      <td>7</td>\n",
       "      <td>5</td>\n",
       "      <td>0</td>\n",
       "      <td>0</td>\n",
       "      <td>0</td>\n",
       "      <td>0</td>\n",
       "      <td>1</td>\n",
       "      <td>1</td>\n",
       "      <td>0</td>\n",
       "      <td>CA</td>\n",
       "    </tr>\n",
       "    <tr>\n",
       "      <th>2</th>\n",
       "      <td>10476</td>\n",
       "      <td>1958</td>\n",
       "      <td>Graduation</td>\n",
       "      <td>Married</td>\n",
       "      <td>$67,267.00</td>\n",
       "      <td>0</td>\n",
       "      <td>1</td>\n",
       "      <td>2014-05-13</td>\n",
       "      <td>0</td>\n",
       "      <td>134</td>\n",
       "      <td>11</td>\n",
       "      <td>59</td>\n",
       "      <td>15</td>\n",
       "      <td>2</td>\n",
       "      <td>30</td>\n",
       "      <td>1</td>\n",
       "      <td>3</td>\n",
       "      <td>2</td>\n",
       "      <td>5</td>\n",
       "      <td>2</td>\n",
       "      <td>0</td>\n",
       "      <td>0</td>\n",
       "      <td>0</td>\n",
       "      <td>0</td>\n",
       "      <td>0</td>\n",
       "      <td>0</td>\n",
       "      <td>0</td>\n",
       "      <td>US</td>\n",
       "    </tr>\n",
       "    <tr>\n",
       "      <th>3</th>\n",
       "      <td>1386</td>\n",
       "      <td>1967</td>\n",
       "      <td>Graduation</td>\n",
       "      <td>Together</td>\n",
       "      <td>$32,474.00</td>\n",
       "      <td>1</td>\n",
       "      <td>1</td>\n",
       "      <td>2014-05-11</td>\n",
       "      <td>0</td>\n",
       "      <td>10</td>\n",
       "      <td>0</td>\n",
       "      <td>1</td>\n",
       "      <td>0</td>\n",
       "      <td>0</td>\n",
       "      <td>0</td>\n",
       "      <td>1</td>\n",
       "      <td>1</td>\n",
       "      <td>0</td>\n",
       "      <td>2</td>\n",
       "      <td>7</td>\n",
       "      <td>0</td>\n",
       "      <td>0</td>\n",
       "      <td>0</td>\n",
       "      <td>0</td>\n",
       "      <td>0</td>\n",
       "      <td>0</td>\n",
       "      <td>0</td>\n",
       "      <td>AUS</td>\n",
       "    </tr>\n",
       "    <tr>\n",
       "      <th>4</th>\n",
       "      <td>5371</td>\n",
       "      <td>1989</td>\n",
       "      <td>Graduation</td>\n",
       "      <td>Single</td>\n",
       "      <td>$21,474.00</td>\n",
       "      <td>1</td>\n",
       "      <td>0</td>\n",
       "      <td>2014-04-08</td>\n",
       "      <td>0</td>\n",
       "      <td>6</td>\n",
       "      <td>16</td>\n",
       "      <td>24</td>\n",
       "      <td>11</td>\n",
       "      <td>0</td>\n",
       "      <td>34</td>\n",
       "      <td>2</td>\n",
       "      <td>3</td>\n",
       "      <td>1</td>\n",
       "      <td>2</td>\n",
       "      <td>7</td>\n",
       "      <td>1</td>\n",
       "      <td>0</td>\n",
       "      <td>0</td>\n",
       "      <td>0</td>\n",
       "      <td>0</td>\n",
       "      <td>1</td>\n",
       "      <td>0</td>\n",
       "      <td>SP</td>\n",
       "    </tr>\n",
       "  </tbody>\n",
       "</table>\n",
       "</div>"
      ],
      "text/plain": [
       "      ID  Year_Birth   Education Marital_Status      Income   Kidhome  \\\n",
       "0   1826        1970  Graduation       Divorced  $84,835.00         0   \n",
       "1      1        1961  Graduation         Single  $57,091.00         0   \n",
       "2  10476        1958  Graduation        Married  $67,267.00         0   \n",
       "3   1386        1967  Graduation       Together  $32,474.00         1   \n",
       "4   5371        1989  Graduation         Single  $21,474.00         1   \n",
       "\n",
       "   Teenhome Dt_Customer  Recency  MntWines  MntFruits  MntMeatProducts  \\\n",
       "0         0  2014-06-16        0       189        104              379   \n",
       "1         0  2014-06-15        0       464          5               64   \n",
       "2         1  2014-05-13        0       134         11               59   \n",
       "3         1  2014-05-11        0        10          0                1   \n",
       "4         0  2014-04-08        0         6         16               24   \n",
       "\n",
       "   MntFishProducts  MntSweetProducts  MntGoldProds  NumDealsPurchases  \\\n",
       "0              111               189           218                  1   \n",
       "1                7                 0            37                  1   \n",
       "2               15                 2            30                  1   \n",
       "3                0                 0             0                  1   \n",
       "4               11                 0            34                  2   \n",
       "\n",
       "   NumWebPurchases  NumCatalogPurchases  NumStorePurchases  NumWebVisitsMonth  \\\n",
       "0                4                    4                  6                  1   \n",
       "1                7                    3                  7                  5   \n",
       "2                3                    2                  5                  2   \n",
       "3                1                    0                  2                  7   \n",
       "4                3                    1                  2                  7   \n",
       "\n",
       "   AcceptedCmp3  AcceptedCmp4  AcceptedCmp5  AcceptedCmp1  AcceptedCmp2  \\\n",
       "0             0             0             0             0             0   \n",
       "1             0             0             0             0             1   \n",
       "2             0             0             0             0             0   \n",
       "3             0             0             0             0             0   \n",
       "4             1             0             0             0             0   \n",
       "\n",
       "   Response  Complain Country  \n",
       "0         1         0      SP  \n",
       "1         1         0      CA  \n",
       "2         0         0      US  \n",
       "3         0         0     AUS  \n",
       "4         1         0      SP  "
      ]
     },
     "execution_count": 59,
     "metadata": {},
     "output_type": "execute_result"
    }
   ],
   "source": [
    "df.head()"
   ]
  },
  {
   "cell_type": "code",
   "execution_count": 60,
   "metadata": {
    "ExecuteTime": {
     "end_time": "2021-02-20T20:25:23.592105Z",
     "start_time": "2021-02-20T20:25:23.570295Z"
    }
   },
   "outputs": [
    {
     "name": "stdout",
     "output_type": "stream",
     "text": [
      "<class 'pandas.core.frame.DataFrame'>\n",
      "RangeIndex: 2240 entries, 0 to 2239\n",
      "Data columns (total 28 columns):\n",
      " #   Column               Non-Null Count  Dtype         \n",
      "---  ------               --------------  -----         \n",
      " 0   ID                   2240 non-null   int64         \n",
      " 1   Year_Birth           2240 non-null   int64         \n",
      " 2   Education            2240 non-null   object        \n",
      " 3   Marital_Status       2240 non-null   object        \n",
      " 4   Income               2216 non-null   object        \n",
      " 5   Kidhome              2240 non-null   int64         \n",
      " 6   Teenhome             2240 non-null   int64         \n",
      " 7   Dt_Customer          2240 non-null   datetime64[ns]\n",
      " 8   Recency              2240 non-null   int64         \n",
      " 9   MntWines             2240 non-null   int64         \n",
      " 10  MntFruits            2240 non-null   int64         \n",
      " 11  MntMeatProducts      2240 non-null   int64         \n",
      " 12  MntFishProducts      2240 non-null   int64         \n",
      " 13  MntSweetProducts     2240 non-null   int64         \n",
      " 14  MntGoldProds         2240 non-null   int64         \n",
      " 15  NumDealsPurchases    2240 non-null   int64         \n",
      " 16  NumWebPurchases      2240 non-null   int64         \n",
      " 17  NumCatalogPurchases  2240 non-null   int64         \n",
      " 18  NumStorePurchases    2240 non-null   int64         \n",
      " 19  NumWebVisitsMonth    2240 non-null   int64         \n",
      " 20  AcceptedCmp3         2240 non-null   int64         \n",
      " 21  AcceptedCmp4         2240 non-null   int64         \n",
      " 22  AcceptedCmp5         2240 non-null   int64         \n",
      " 23  AcceptedCmp1         2240 non-null   int64         \n",
      " 24  AcceptedCmp2         2240 non-null   int64         \n",
      " 25  Response             2240 non-null   int64         \n",
      " 26  Complain             2240 non-null   int64         \n",
      " 27  Country              2240 non-null   object        \n",
      "dtypes: datetime64[ns](1), int64(23), object(4)\n",
      "memory usage: 490.1+ KB\n"
     ]
    }
   ],
   "source": [
    "df.info()"
   ]
  },
  {
   "cell_type": "markdown",
   "metadata": {},
   "source": [
    "The dataset appears to have been loaded correctly, however two structural problems were found.\n",
    "* The income column will need to be converted to a float "
   ]
  },
  {
   "cell_type": "markdown",
   "metadata": {},
   "source": [
    "## Remove Duplicates"
   ]
  },
  {
   "cell_type": "markdown",
   "metadata": {},
   "source": [
    "Check for Duplicate Rows"
   ]
  },
  {
   "cell_type": "code",
   "execution_count": 61,
   "metadata": {
    "ExecuteTime": {
     "end_time": "2021-02-20T20:25:23.627083Z",
     "start_time": "2021-02-20T20:25:23.595697Z"
    }
   },
   "outputs": [
    {
     "data": {
      "text/html": [
       "<div>\n",
       "<style scoped>\n",
       "    .dataframe tbody tr th:only-of-type {\n",
       "        vertical-align: middle;\n",
       "    }\n",
       "\n",
       "    .dataframe tbody tr th {\n",
       "        vertical-align: top;\n",
       "    }\n",
       "\n",
       "    .dataframe thead th {\n",
       "        text-align: right;\n",
       "    }\n",
       "</style>\n",
       "<table border=\"1\" class=\"dataframe\">\n",
       "  <thead>\n",
       "    <tr style=\"text-align: right;\">\n",
       "      <th></th>\n",
       "      <th>ID</th>\n",
       "      <th>Year_Birth</th>\n",
       "      <th>Education</th>\n",
       "      <th>Marital_Status</th>\n",
       "      <th>Income</th>\n",
       "      <th>Kidhome</th>\n",
       "      <th>Teenhome</th>\n",
       "      <th>Dt_Customer</th>\n",
       "      <th>Recency</th>\n",
       "      <th>MntWines</th>\n",
       "      <th>MntFruits</th>\n",
       "      <th>MntMeatProducts</th>\n",
       "      <th>MntFishProducts</th>\n",
       "      <th>MntSweetProducts</th>\n",
       "      <th>MntGoldProds</th>\n",
       "      <th>NumDealsPurchases</th>\n",
       "      <th>NumWebPurchases</th>\n",
       "      <th>NumCatalogPurchases</th>\n",
       "      <th>NumStorePurchases</th>\n",
       "      <th>NumWebVisitsMonth</th>\n",
       "      <th>AcceptedCmp3</th>\n",
       "      <th>AcceptedCmp4</th>\n",
       "      <th>AcceptedCmp5</th>\n",
       "      <th>AcceptedCmp1</th>\n",
       "      <th>AcceptedCmp2</th>\n",
       "      <th>Response</th>\n",
       "      <th>Complain</th>\n",
       "      <th>Country</th>\n",
       "    </tr>\n",
       "  </thead>\n",
       "  <tbody>\n",
       "  </tbody>\n",
       "</table>\n",
       "</div>"
      ],
      "text/plain": [
       "Empty DataFrame\n",
       "Columns: [ID, Year_Birth, Education, Marital_Status, Income , Kidhome, Teenhome, Dt_Customer, Recency, MntWines, MntFruits, MntMeatProducts, MntFishProducts, MntSweetProducts, MntGoldProds, NumDealsPurchases, NumWebPurchases, NumCatalogPurchases, NumStorePurchases, NumWebVisitsMonth, AcceptedCmp3, AcceptedCmp4, AcceptedCmp5, AcceptedCmp1, AcceptedCmp2, Response, Complain, Country]\n",
       "Index: []"
      ]
     },
     "execution_count": 61,
     "metadata": {},
     "output_type": "execute_result"
    }
   ],
   "source": [
    "df[df.duplicated()]"
   ]
  },
  {
   "cell_type": "markdown",
   "metadata": {},
   "source": [
    "There were no duplicate rows"
   ]
  },
  {
   "cell_type": "markdown",
   "metadata": {},
   "source": [
    "## Fix Structural Errors"
   ]
  },
  {
   "cell_type": "markdown",
   "metadata": {},
   "source": [
    "### There is a trailing space in the title of the *Income* column; it needs to be removed"
   ]
  },
  {
   "cell_type": "code",
   "execution_count": 62,
   "metadata": {
    "ExecuteTime": {
     "end_time": "2021-02-20T20:25:23.633982Z",
     "start_time": "2021-02-20T20:25:23.629907Z"
    }
   },
   "outputs": [],
   "source": [
    "df.columns = df.columns.str.strip()"
   ]
  },
  {
   "cell_type": "markdown",
   "metadata": {},
   "source": [
    "### The *Income* column is a string with a leading dollar sign and comma\n",
    "The dollar sign and comma needs to be removed and the column converted to numeric"
   ]
  },
  {
   "cell_type": "code",
   "execution_count": 63,
   "metadata": {
    "ExecuteTime": {
     "end_time": "2021-02-20T20:25:23.649168Z",
     "start_time": "2021-02-20T20:25:23.636300Z"
    }
   },
   "outputs": [],
   "source": [
    "df['Income_Dollars'] = pd.to_numeric(df['Income'].str.replace('$', '').str.replace(',', ''))"
   ]
  },
  {
   "cell_type": "code",
   "execution_count": 64,
   "metadata": {
    "ExecuteTime": {
     "end_time": "2021-02-20T20:25:23.688139Z",
     "start_time": "2021-02-20T20:25:23.651446Z"
    }
   },
   "outputs": [
    {
     "data": {
      "text/html": [
       "<div>\n",
       "<style scoped>\n",
       "    .dataframe tbody tr th:only-of-type {\n",
       "        vertical-align: middle;\n",
       "    }\n",
       "\n",
       "    .dataframe tbody tr th {\n",
       "        vertical-align: top;\n",
       "    }\n",
       "\n",
       "    .dataframe thead th {\n",
       "        text-align: right;\n",
       "    }\n",
       "</style>\n",
       "<table border=\"1\" class=\"dataframe\">\n",
       "  <thead>\n",
       "    <tr style=\"text-align: right;\">\n",
       "      <th></th>\n",
       "      <th>ID</th>\n",
       "      <th>Year_Birth</th>\n",
       "      <th>Education</th>\n",
       "      <th>Marital_Status</th>\n",
       "      <th>Income</th>\n",
       "      <th>Kidhome</th>\n",
       "      <th>Teenhome</th>\n",
       "      <th>Dt_Customer</th>\n",
       "      <th>Recency</th>\n",
       "      <th>MntWines</th>\n",
       "      <th>MntFruits</th>\n",
       "      <th>MntMeatProducts</th>\n",
       "      <th>MntFishProducts</th>\n",
       "      <th>MntSweetProducts</th>\n",
       "      <th>MntGoldProds</th>\n",
       "      <th>NumDealsPurchases</th>\n",
       "      <th>NumWebPurchases</th>\n",
       "      <th>NumCatalogPurchases</th>\n",
       "      <th>NumStorePurchases</th>\n",
       "      <th>NumWebVisitsMonth</th>\n",
       "      <th>AcceptedCmp3</th>\n",
       "      <th>AcceptedCmp4</th>\n",
       "      <th>AcceptedCmp5</th>\n",
       "      <th>AcceptedCmp1</th>\n",
       "      <th>AcceptedCmp2</th>\n",
       "      <th>Response</th>\n",
       "      <th>Complain</th>\n",
       "      <th>Country</th>\n",
       "      <th>Income_Dollars</th>\n",
       "    </tr>\n",
       "  </thead>\n",
       "  <tbody>\n",
       "    <tr>\n",
       "      <th>0</th>\n",
       "      <td>1826</td>\n",
       "      <td>1970</td>\n",
       "      <td>Graduation</td>\n",
       "      <td>Divorced</td>\n",
       "      <td>$84,835.00</td>\n",
       "      <td>0</td>\n",
       "      <td>0</td>\n",
       "      <td>2014-06-16</td>\n",
       "      <td>0</td>\n",
       "      <td>189</td>\n",
       "      <td>104</td>\n",
       "      <td>379</td>\n",
       "      <td>111</td>\n",
       "      <td>189</td>\n",
       "      <td>218</td>\n",
       "      <td>1</td>\n",
       "      <td>4</td>\n",
       "      <td>4</td>\n",
       "      <td>6</td>\n",
       "      <td>1</td>\n",
       "      <td>0</td>\n",
       "      <td>0</td>\n",
       "      <td>0</td>\n",
       "      <td>0</td>\n",
       "      <td>0</td>\n",
       "      <td>1</td>\n",
       "      <td>0</td>\n",
       "      <td>SP</td>\n",
       "      <td>84835.0</td>\n",
       "    </tr>\n",
       "    <tr>\n",
       "      <th>1</th>\n",
       "      <td>1</td>\n",
       "      <td>1961</td>\n",
       "      <td>Graduation</td>\n",
       "      <td>Single</td>\n",
       "      <td>$57,091.00</td>\n",
       "      <td>0</td>\n",
       "      <td>0</td>\n",
       "      <td>2014-06-15</td>\n",
       "      <td>0</td>\n",
       "      <td>464</td>\n",
       "      <td>5</td>\n",
       "      <td>64</td>\n",
       "      <td>7</td>\n",
       "      <td>0</td>\n",
       "      <td>37</td>\n",
       "      <td>1</td>\n",
       "      <td>7</td>\n",
       "      <td>3</td>\n",
       "      <td>7</td>\n",
       "      <td>5</td>\n",
       "      <td>0</td>\n",
       "      <td>0</td>\n",
       "      <td>0</td>\n",
       "      <td>0</td>\n",
       "      <td>1</td>\n",
       "      <td>1</td>\n",
       "      <td>0</td>\n",
       "      <td>CA</td>\n",
       "      <td>57091.0</td>\n",
       "    </tr>\n",
       "    <tr>\n",
       "      <th>2</th>\n",
       "      <td>10476</td>\n",
       "      <td>1958</td>\n",
       "      <td>Graduation</td>\n",
       "      <td>Married</td>\n",
       "      <td>$67,267.00</td>\n",
       "      <td>0</td>\n",
       "      <td>1</td>\n",
       "      <td>2014-05-13</td>\n",
       "      <td>0</td>\n",
       "      <td>134</td>\n",
       "      <td>11</td>\n",
       "      <td>59</td>\n",
       "      <td>15</td>\n",
       "      <td>2</td>\n",
       "      <td>30</td>\n",
       "      <td>1</td>\n",
       "      <td>3</td>\n",
       "      <td>2</td>\n",
       "      <td>5</td>\n",
       "      <td>2</td>\n",
       "      <td>0</td>\n",
       "      <td>0</td>\n",
       "      <td>0</td>\n",
       "      <td>0</td>\n",
       "      <td>0</td>\n",
       "      <td>0</td>\n",
       "      <td>0</td>\n",
       "      <td>US</td>\n",
       "      <td>67267.0</td>\n",
       "    </tr>\n",
       "    <tr>\n",
       "      <th>3</th>\n",
       "      <td>1386</td>\n",
       "      <td>1967</td>\n",
       "      <td>Graduation</td>\n",
       "      <td>Together</td>\n",
       "      <td>$32,474.00</td>\n",
       "      <td>1</td>\n",
       "      <td>1</td>\n",
       "      <td>2014-05-11</td>\n",
       "      <td>0</td>\n",
       "      <td>10</td>\n",
       "      <td>0</td>\n",
       "      <td>1</td>\n",
       "      <td>0</td>\n",
       "      <td>0</td>\n",
       "      <td>0</td>\n",
       "      <td>1</td>\n",
       "      <td>1</td>\n",
       "      <td>0</td>\n",
       "      <td>2</td>\n",
       "      <td>7</td>\n",
       "      <td>0</td>\n",
       "      <td>0</td>\n",
       "      <td>0</td>\n",
       "      <td>0</td>\n",
       "      <td>0</td>\n",
       "      <td>0</td>\n",
       "      <td>0</td>\n",
       "      <td>AUS</td>\n",
       "      <td>32474.0</td>\n",
       "    </tr>\n",
       "    <tr>\n",
       "      <th>4</th>\n",
       "      <td>5371</td>\n",
       "      <td>1989</td>\n",
       "      <td>Graduation</td>\n",
       "      <td>Single</td>\n",
       "      <td>$21,474.00</td>\n",
       "      <td>1</td>\n",
       "      <td>0</td>\n",
       "      <td>2014-04-08</td>\n",
       "      <td>0</td>\n",
       "      <td>6</td>\n",
       "      <td>16</td>\n",
       "      <td>24</td>\n",
       "      <td>11</td>\n",
       "      <td>0</td>\n",
       "      <td>34</td>\n",
       "      <td>2</td>\n",
       "      <td>3</td>\n",
       "      <td>1</td>\n",
       "      <td>2</td>\n",
       "      <td>7</td>\n",
       "      <td>1</td>\n",
       "      <td>0</td>\n",
       "      <td>0</td>\n",
       "      <td>0</td>\n",
       "      <td>0</td>\n",
       "      <td>1</td>\n",
       "      <td>0</td>\n",
       "      <td>SP</td>\n",
       "      <td>21474.0</td>\n",
       "    </tr>\n",
       "  </tbody>\n",
       "</table>\n",
       "</div>"
      ],
      "text/plain": [
       "      ID  Year_Birth   Education Marital_Status       Income  Kidhome  \\\n",
       "0   1826        1970  Graduation       Divorced  $84,835.00         0   \n",
       "1      1        1961  Graduation         Single  $57,091.00         0   \n",
       "2  10476        1958  Graduation        Married  $67,267.00         0   \n",
       "3   1386        1967  Graduation       Together  $32,474.00         1   \n",
       "4   5371        1989  Graduation         Single  $21,474.00         1   \n",
       "\n",
       "   Teenhome Dt_Customer  Recency  MntWines  MntFruits  MntMeatProducts  \\\n",
       "0         0  2014-06-16        0       189        104              379   \n",
       "1         0  2014-06-15        0       464          5               64   \n",
       "2         1  2014-05-13        0       134         11               59   \n",
       "3         1  2014-05-11        0        10          0                1   \n",
       "4         0  2014-04-08        0         6         16               24   \n",
       "\n",
       "   MntFishProducts  MntSweetProducts  MntGoldProds  NumDealsPurchases  \\\n",
       "0              111               189           218                  1   \n",
       "1                7                 0            37                  1   \n",
       "2               15                 2            30                  1   \n",
       "3                0                 0             0                  1   \n",
       "4               11                 0            34                  2   \n",
       "\n",
       "   NumWebPurchases  NumCatalogPurchases  NumStorePurchases  NumWebVisitsMonth  \\\n",
       "0                4                    4                  6                  1   \n",
       "1                7                    3                  7                  5   \n",
       "2                3                    2                  5                  2   \n",
       "3                1                    0                  2                  7   \n",
       "4                3                    1                  2                  7   \n",
       "\n",
       "   AcceptedCmp3  AcceptedCmp4  AcceptedCmp5  AcceptedCmp1  AcceptedCmp2  \\\n",
       "0             0             0             0             0             0   \n",
       "1             0             0             0             0             1   \n",
       "2             0             0             0             0             0   \n",
       "3             0             0             0             0             0   \n",
       "4             1             0             0             0             0   \n",
       "\n",
       "   Response  Complain Country  Income_Dollars  \n",
       "0         1         0      SP         84835.0  \n",
       "1         1         0      CA         57091.0  \n",
       "2         0         0      US         67267.0  \n",
       "3         0         0     AUS         32474.0  \n",
       "4         1         0      SP         21474.0  "
      ]
     },
     "execution_count": 64,
     "metadata": {},
     "output_type": "execute_result"
    }
   ],
   "source": [
    "df.head()"
   ]
  },
  {
   "cell_type": "markdown",
   "metadata": {},
   "source": [
    "### Check Categorical Data"
   ]
  },
  {
   "cell_type": "markdown",
   "metadata": {},
   "source": [
    "#### Education"
   ]
  },
  {
   "cell_type": "code",
   "execution_count": 65,
   "metadata": {
    "ExecuteTime": {
     "end_time": "2021-02-20T20:25:23.699657Z",
     "start_time": "2021-02-20T20:25:23.690183Z"
    }
   },
   "outputs": [
    {
     "data": {
      "text/plain": [
       "Graduation    1127\n",
       "PhD            486\n",
       "Master         370\n",
       "2n Cycle       203\n",
       "Basic           54\n",
       "Name: Education, dtype: int64"
      ]
     },
     "execution_count": 65,
     "metadata": {},
     "output_type": "execute_result"
    }
   ],
   "source": [
    "df.Education.value_counts()"
   ]
  },
  {
   "cell_type": "markdown",
   "metadata": {},
   "source": [
    "The Education values look ok, but it's unclear what Basic is vs. Graduation."
   ]
  },
  {
   "cell_type": "markdown",
   "metadata": {},
   "source": [
    "#### Marital_Status"
   ]
  },
  {
   "cell_type": "code",
   "execution_count": 66,
   "metadata": {
    "ExecuteTime": {
     "end_time": "2021-02-20T20:25:23.710373Z",
     "start_time": "2021-02-20T20:25:23.701856Z"
    }
   },
   "outputs": [
    {
     "data": {
      "text/plain": [
       "Married     864\n",
       "Together    580\n",
       "Single      480\n",
       "Divorced    232\n",
       "Widow        77\n",
       "Alone         3\n",
       "YOLO          2\n",
       "Absurd        2\n",
       "Name: Marital_Status, dtype: int64"
      ]
     },
     "execution_count": 66,
     "metadata": {},
     "output_type": "execute_result"
    }
   ],
   "source": [
    "df.Marital_Status.value_counts()"
   ]
  },
  {
   "cell_type": "markdown",
   "metadata": {},
   "source": [
    "There are 3 non-answers here.  The all seem to indicate a Single person and will have their values changed.\n",
    "\n",
    "These non-answers may indicate all the data in the row is non-sense and should be checked later for outliers."
   ]
  },
  {
   "cell_type": "code",
   "execution_count": 67,
   "metadata": {
    "ExecuteTime": {
     "end_time": "2021-02-20T20:25:23.717055Z",
     "start_time": "2021-02-20T20:25:23.712517Z"
    }
   },
   "outputs": [],
   "source": [
    "df['Marital_Status_Clean'] = df.Marital_Status"
   ]
  },
  {
   "cell_type": "code",
   "execution_count": 72,
   "metadata": {
    "ExecuteTime": {
     "end_time": "2021-02-20T20:27:02.498428Z",
     "start_time": "2021-02-20T20:27:02.458366Z"
    }
   },
   "outputs": [
    {
     "data": {
      "text/html": [
       "<div>\n",
       "<style scoped>\n",
       "    .dataframe tbody tr th:only-of-type {\n",
       "        vertical-align: middle;\n",
       "    }\n",
       "\n",
       "    .dataframe tbody tr th {\n",
       "        vertical-align: top;\n",
       "    }\n",
       "\n",
       "    .dataframe thead th {\n",
       "        text-align: right;\n",
       "    }\n",
       "</style>\n",
       "<table border=\"1\" class=\"dataframe\">\n",
       "  <thead>\n",
       "    <tr style=\"text-align: right;\">\n",
       "      <th></th>\n",
       "      <th>ID</th>\n",
       "      <th>Year_Birth</th>\n",
       "      <th>Education</th>\n",
       "      <th>Marital_Status</th>\n",
       "      <th>Income</th>\n",
       "      <th>Kidhome</th>\n",
       "      <th>Teenhome</th>\n",
       "      <th>Dt_Customer</th>\n",
       "      <th>Recency</th>\n",
       "      <th>MntWines</th>\n",
       "      <th>MntFruits</th>\n",
       "      <th>MntMeatProducts</th>\n",
       "      <th>MntFishProducts</th>\n",
       "      <th>MntSweetProducts</th>\n",
       "      <th>MntGoldProds</th>\n",
       "      <th>NumDealsPurchases</th>\n",
       "      <th>NumWebPurchases</th>\n",
       "      <th>NumCatalogPurchases</th>\n",
       "      <th>NumStorePurchases</th>\n",
       "      <th>NumWebVisitsMonth</th>\n",
       "      <th>AcceptedCmp3</th>\n",
       "      <th>AcceptedCmp4</th>\n",
       "      <th>AcceptedCmp5</th>\n",
       "      <th>AcceptedCmp1</th>\n",
       "      <th>AcceptedCmp2</th>\n",
       "      <th>Response</th>\n",
       "      <th>Complain</th>\n",
       "      <th>Country</th>\n",
       "      <th>Income_Dollars</th>\n",
       "      <th>Marital_Status_Clean</th>\n",
       "    </tr>\n",
       "  </thead>\n",
       "  <tbody>\n",
       "    <tr>\n",
       "      <th>103</th>\n",
       "      <td>492</td>\n",
       "      <td>1973</td>\n",
       "      <td>PhD</td>\n",
       "      <td>YOLO</td>\n",
       "      <td>$48,432.00</td>\n",
       "      <td>0</td>\n",
       "      <td>1</td>\n",
       "      <td>2012-10-18</td>\n",
       "      <td>3</td>\n",
       "      <td>322</td>\n",
       "      <td>3</td>\n",
       "      <td>50</td>\n",
       "      <td>4</td>\n",
       "      <td>3</td>\n",
       "      <td>42</td>\n",
       "      <td>5</td>\n",
       "      <td>7</td>\n",
       "      <td>1</td>\n",
       "      <td>6</td>\n",
       "      <td>8</td>\n",
       "      <td>0</td>\n",
       "      <td>0</td>\n",
       "      <td>0</td>\n",
       "      <td>0</td>\n",
       "      <td>0</td>\n",
       "      <td>0</td>\n",
       "      <td>0</td>\n",
       "      <td>CA</td>\n",
       "      <td>48432.0</td>\n",
       "      <td>YOLO</td>\n",
       "    </tr>\n",
       "    <tr>\n",
       "      <th>104</th>\n",
       "      <td>11133</td>\n",
       "      <td>1973</td>\n",
       "      <td>PhD</td>\n",
       "      <td>YOLO</td>\n",
       "      <td>$48,432.00</td>\n",
       "      <td>0</td>\n",
       "      <td>1</td>\n",
       "      <td>2012-10-18</td>\n",
       "      <td>3</td>\n",
       "      <td>322</td>\n",
       "      <td>3</td>\n",
       "      <td>50</td>\n",
       "      <td>4</td>\n",
       "      <td>3</td>\n",
       "      <td>42</td>\n",
       "      <td>5</td>\n",
       "      <td>7</td>\n",
       "      <td>1</td>\n",
       "      <td>6</td>\n",
       "      <td>8</td>\n",
       "      <td>0</td>\n",
       "      <td>0</td>\n",
       "      <td>0</td>\n",
       "      <td>0</td>\n",
       "      <td>0</td>\n",
       "      <td>1</td>\n",
       "      <td>0</td>\n",
       "      <td>IND</td>\n",
       "      <td>48432.0</td>\n",
       "      <td>YOLO</td>\n",
       "    </tr>\n",
       "    <tr>\n",
       "      <th>286</th>\n",
       "      <td>92</td>\n",
       "      <td>1988</td>\n",
       "      <td>Graduation</td>\n",
       "      <td>Alone</td>\n",
       "      <td>$34,176.00</td>\n",
       "      <td>1</td>\n",
       "      <td>0</td>\n",
       "      <td>2014-05-12</td>\n",
       "      <td>12</td>\n",
       "      <td>5</td>\n",
       "      <td>7</td>\n",
       "      <td>24</td>\n",
       "      <td>19</td>\n",
       "      <td>14</td>\n",
       "      <td>20</td>\n",
       "      <td>4</td>\n",
       "      <td>3</td>\n",
       "      <td>0</td>\n",
       "      <td>4</td>\n",
       "      <td>6</td>\n",
       "      <td>0</td>\n",
       "      <td>0</td>\n",
       "      <td>0</td>\n",
       "      <td>0</td>\n",
       "      <td>0</td>\n",
       "      <td>0</td>\n",
       "      <td>0</td>\n",
       "      <td>CA</td>\n",
       "      <td>34176.0</td>\n",
       "      <td>Alone</td>\n",
       "    </tr>\n",
       "    <tr>\n",
       "      <th>838</th>\n",
       "      <td>7660</td>\n",
       "      <td>1973</td>\n",
       "      <td>PhD</td>\n",
       "      <td>Alone</td>\n",
       "      <td>$35,860.00</td>\n",
       "      <td>1</td>\n",
       "      <td>1</td>\n",
       "      <td>2014-05-19</td>\n",
       "      <td>37</td>\n",
       "      <td>15</td>\n",
       "      <td>0</td>\n",
       "      <td>8</td>\n",
       "      <td>4</td>\n",
       "      <td>2</td>\n",
       "      <td>20</td>\n",
       "      <td>2</td>\n",
       "      <td>1</td>\n",
       "      <td>1</td>\n",
       "      <td>2</td>\n",
       "      <td>5</td>\n",
       "      <td>1</td>\n",
       "      <td>0</td>\n",
       "      <td>0</td>\n",
       "      <td>0</td>\n",
       "      <td>0</td>\n",
       "      <td>1</td>\n",
       "      <td>0</td>\n",
       "      <td>CA</td>\n",
       "      <td>35860.0</td>\n",
       "      <td>Alone</td>\n",
       "    </tr>\n",
       "    <tr>\n",
       "      <th>959</th>\n",
       "      <td>433</td>\n",
       "      <td>1958</td>\n",
       "      <td>Master</td>\n",
       "      <td>Alone</td>\n",
       "      <td>$61,331.00</td>\n",
       "      <td>1</td>\n",
       "      <td>1</td>\n",
       "      <td>2013-03-10</td>\n",
       "      <td>42</td>\n",
       "      <td>534</td>\n",
       "      <td>5</td>\n",
       "      <td>47</td>\n",
       "      <td>0</td>\n",
       "      <td>5</td>\n",
       "      <td>41</td>\n",
       "      <td>5</td>\n",
       "      <td>11</td>\n",
       "      <td>1</td>\n",
       "      <td>6</td>\n",
       "      <td>8</td>\n",
       "      <td>0</td>\n",
       "      <td>0</td>\n",
       "      <td>0</td>\n",
       "      <td>0</td>\n",
       "      <td>0</td>\n",
       "      <td>0</td>\n",
       "      <td>0</td>\n",
       "      <td>CA</td>\n",
       "      <td>61331.0</td>\n",
       "      <td>Alone</td>\n",
       "    </tr>\n",
       "    <tr>\n",
       "      <th>1068</th>\n",
       "      <td>4369</td>\n",
       "      <td>1957</td>\n",
       "      <td>Master</td>\n",
       "      <td>Absurd</td>\n",
       "      <td>$65,487.00</td>\n",
       "      <td>0</td>\n",
       "      <td>0</td>\n",
       "      <td>2014-01-10</td>\n",
       "      <td>48</td>\n",
       "      <td>240</td>\n",
       "      <td>67</td>\n",
       "      <td>500</td>\n",
       "      <td>199</td>\n",
       "      <td>0</td>\n",
       "      <td>163</td>\n",
       "      <td>3</td>\n",
       "      <td>3</td>\n",
       "      <td>5</td>\n",
       "      <td>6</td>\n",
       "      <td>2</td>\n",
       "      <td>0</td>\n",
       "      <td>0</td>\n",
       "      <td>0</td>\n",
       "      <td>0</td>\n",
       "      <td>0</td>\n",
       "      <td>0</td>\n",
       "      <td>0</td>\n",
       "      <td>CA</td>\n",
       "      <td>65487.0</td>\n",
       "      <td>Absurd</td>\n",
       "    </tr>\n",
       "    <tr>\n",
       "      <th>1339</th>\n",
       "      <td>7734</td>\n",
       "      <td>1993</td>\n",
       "      <td>Graduation</td>\n",
       "      <td>Absurd</td>\n",
       "      <td>$79,244.00</td>\n",
       "      <td>0</td>\n",
       "      <td>0</td>\n",
       "      <td>2012-12-19</td>\n",
       "      <td>58</td>\n",
       "      <td>471</td>\n",
       "      <td>102</td>\n",
       "      <td>125</td>\n",
       "      <td>212</td>\n",
       "      <td>61</td>\n",
       "      <td>245</td>\n",
       "      <td>1</td>\n",
       "      <td>4</td>\n",
       "      <td>10</td>\n",
       "      <td>7</td>\n",
       "      <td>1</td>\n",
       "      <td>0</td>\n",
       "      <td>0</td>\n",
       "      <td>1</td>\n",
       "      <td>1</td>\n",
       "      <td>0</td>\n",
       "      <td>1</td>\n",
       "      <td>0</td>\n",
       "      <td>AUS</td>\n",
       "      <td>79244.0</td>\n",
       "      <td>Absurd</td>\n",
       "    </tr>\n",
       "  </tbody>\n",
       "</table>\n",
       "</div>"
      ],
      "text/plain": [
       "         ID  Year_Birth   Education Marital_Status       Income  Kidhome  \\\n",
       "103     492        1973         PhD           YOLO  $48,432.00         0   \n",
       "104   11133        1973         PhD           YOLO  $48,432.00         0   \n",
       "286      92        1988  Graduation          Alone  $34,176.00         1   \n",
       "838    7660        1973         PhD          Alone  $35,860.00         1   \n",
       "959     433        1958      Master          Alone  $61,331.00         1   \n",
       "1068   4369        1957      Master         Absurd  $65,487.00         0   \n",
       "1339   7734        1993  Graduation         Absurd  $79,244.00         0   \n",
       "\n",
       "      Teenhome Dt_Customer  Recency  MntWines  MntFruits  MntMeatProducts  \\\n",
       "103          1  2012-10-18        3       322          3               50   \n",
       "104          1  2012-10-18        3       322          3               50   \n",
       "286          0  2014-05-12       12         5          7               24   \n",
       "838          1  2014-05-19       37        15          0                8   \n",
       "959          1  2013-03-10       42       534          5               47   \n",
       "1068         0  2014-01-10       48       240         67              500   \n",
       "1339         0  2012-12-19       58       471        102              125   \n",
       "\n",
       "      MntFishProducts  MntSweetProducts  MntGoldProds  NumDealsPurchases  \\\n",
       "103                 4                 3            42                  5   \n",
       "104                 4                 3            42                  5   \n",
       "286                19                14            20                  4   \n",
       "838                 4                 2            20                  2   \n",
       "959                 0                 5            41                  5   \n",
       "1068              199                 0           163                  3   \n",
       "1339              212                61           245                  1   \n",
       "\n",
       "      NumWebPurchases  NumCatalogPurchases  NumStorePurchases  \\\n",
       "103                 7                    1                  6   \n",
       "104                 7                    1                  6   \n",
       "286                 3                    0                  4   \n",
       "838                 1                    1                  2   \n",
       "959                11                    1                  6   \n",
       "1068                3                    5                  6   \n",
       "1339                4                   10                  7   \n",
       "\n",
       "      NumWebVisitsMonth  AcceptedCmp3  AcceptedCmp4  AcceptedCmp5  \\\n",
       "103                   8             0             0             0   \n",
       "104                   8             0             0             0   \n",
       "286                   6             0             0             0   \n",
       "838                   5             1             0             0   \n",
       "959                   8             0             0             0   \n",
       "1068                  2             0             0             0   \n",
       "1339                  1             0             0             1   \n",
       "\n",
       "      AcceptedCmp1  AcceptedCmp2  Response  Complain Country  Income_Dollars  \\\n",
       "103              0             0         0         0      CA         48432.0   \n",
       "104              0             0         1         0     IND         48432.0   \n",
       "286              0             0         0         0      CA         34176.0   \n",
       "838              0             0         1         0      CA         35860.0   \n",
       "959              0             0         0         0      CA         61331.0   \n",
       "1068             0             0         0         0      CA         65487.0   \n",
       "1339             1             0         1         0     AUS         79244.0   \n",
       "\n",
       "     Marital_Status_Clean  \n",
       "103                  YOLO  \n",
       "104                  YOLO  \n",
       "286                 Alone  \n",
       "838                 Alone  \n",
       "959                 Alone  \n",
       "1068               Absurd  \n",
       "1339               Absurd  "
      ]
     },
     "execution_count": 72,
     "metadata": {},
     "output_type": "execute_result"
    }
   ],
   "source": [
    "df[df['Marital_Status_Clean'].isin(['Alone', 'YOLO', 'Absurd'])]"
   ]
  },
  {
   "cell_type": "code",
   "execution_count": 73,
   "metadata": {
    "ExecuteTime": {
     "end_time": "2021-02-20T20:30:04.758800Z",
     "start_time": "2021-02-20T20:30:04.753157Z"
    }
   },
   "outputs": [],
   "source": [
    "mask = df[df['Marital_Status_Clean'].isin(['Alone', 'YOLO', 'Absurd'])].index"
   ]
  },
  {
   "cell_type": "code",
   "execution_count": 75,
   "metadata": {
    "ExecuteTime": {
     "end_time": "2021-02-20T20:30:53.966199Z",
     "start_time": "2021-02-20T20:30:53.960826Z"
    }
   },
   "outputs": [],
   "source": [
    "df.loc[mask, 'Marital_Status_Clean'] = 'Single'"
   ]
  },
  {
   "cell_type": "code",
   "execution_count": 76,
   "metadata": {
    "ExecuteTime": {
     "end_time": "2021-02-20T20:31:00.583567Z",
     "start_time": "2021-02-20T20:31:00.575322Z"
    }
   },
   "outputs": [
    {
     "data": {
      "text/plain": [
       "Married     864\n",
       "Together    580\n",
       "Single      487\n",
       "Divorced    232\n",
       "Widow        77\n",
       "Name: Marital_Status_Clean, dtype: int64"
      ]
     },
     "execution_count": 76,
     "metadata": {},
     "output_type": "execute_result"
    }
   ],
   "source": [
    "df.Marital_Status_Clean.value_counts()"
   ]
  },
  {
   "cell_type": "markdown",
   "metadata": {},
   "source": [
    "#### Country"
   ]
  },
  {
   "cell_type": "code",
   "execution_count": 77,
   "metadata": {
    "ExecuteTime": {
     "end_time": "2021-02-20T20:32:04.709462Z",
     "start_time": "2021-02-20T20:32:04.701026Z"
    }
   },
   "outputs": [
    {
     "data": {
      "text/plain": [
       "SP     1095\n",
       "SA      337\n",
       "CA      268\n",
       "AUS     160\n",
       "IND     148\n",
       "GER     120\n",
       "US      109\n",
       "ME        3\n",
       "Name: Country, dtype: int64"
      ]
     },
     "execution_count": 77,
     "metadata": {},
     "output_type": "execute_result"
    }
   ],
   "source": [
    "df.Country.value_counts()"
   ]
  },
  {
   "cell_type": "markdown",
   "metadata": {},
   "source": [
    "What are these abbreviations?\n",
    "* SP = Spain\n",
    "* SA = Saudi Arabia or South Africa\n",
    "* CA = Canada\n",
    "* AUS = Australia\n",
    "* IND = India\n",
    "* GER = Germany\n",
    "* US = USA\n",
    "* ME = Montenegro"
   ]
  },
  {
   "cell_type": "markdown",
   "metadata": {},
   "source": [
    "### Filter Unwanted Outliers"
   ]
  },
  {
   "cell_type": "code",
   "execution_count": 79,
   "metadata": {
    "ExecuteTime": {
     "end_time": "2021-02-20T20:33:44.744753Z",
     "start_time": "2021-02-20T20:33:44.590332Z"
    }
   },
   "outputs": [
    {
     "data": {
      "text/html": [
       "<div>\n",
       "<style scoped>\n",
       "    .dataframe tbody tr th:only-of-type {\n",
       "        vertical-align: middle;\n",
       "    }\n",
       "\n",
       "    .dataframe tbody tr th {\n",
       "        vertical-align: top;\n",
       "    }\n",
       "\n",
       "    .dataframe thead th {\n",
       "        text-align: right;\n",
       "    }\n",
       "</style>\n",
       "<table border=\"1\" class=\"dataframe\">\n",
       "  <thead>\n",
       "    <tr style=\"text-align: right;\">\n",
       "      <th></th>\n",
       "      <th>ID</th>\n",
       "      <th>Year_Birth</th>\n",
       "      <th>Kidhome</th>\n",
       "      <th>Teenhome</th>\n",
       "      <th>Recency</th>\n",
       "      <th>MntWines</th>\n",
       "      <th>MntFruits</th>\n",
       "      <th>MntMeatProducts</th>\n",
       "      <th>MntFishProducts</th>\n",
       "      <th>MntSweetProducts</th>\n",
       "      <th>MntGoldProds</th>\n",
       "      <th>NumDealsPurchases</th>\n",
       "      <th>NumWebPurchases</th>\n",
       "      <th>NumCatalogPurchases</th>\n",
       "      <th>NumStorePurchases</th>\n",
       "      <th>NumWebVisitsMonth</th>\n",
       "      <th>AcceptedCmp3</th>\n",
       "      <th>AcceptedCmp4</th>\n",
       "      <th>AcceptedCmp5</th>\n",
       "      <th>AcceptedCmp1</th>\n",
       "      <th>AcceptedCmp2</th>\n",
       "      <th>Response</th>\n",
       "      <th>Complain</th>\n",
       "      <th>Income_Dollars</th>\n",
       "    </tr>\n",
       "  </thead>\n",
       "  <tbody>\n",
       "    <tr>\n",
       "      <th>count</th>\n",
       "      <td>2240.000000</td>\n",
       "      <td>2240.000000</td>\n",
       "      <td>2240.000000</td>\n",
       "      <td>2240.000000</td>\n",
       "      <td>2240.000000</td>\n",
       "      <td>2240.000000</td>\n",
       "      <td>2240.000000</td>\n",
       "      <td>2240.000000</td>\n",
       "      <td>2240.000000</td>\n",
       "      <td>2240.000000</td>\n",
       "      <td>2240.000000</td>\n",
       "      <td>2240.000000</td>\n",
       "      <td>2240.000000</td>\n",
       "      <td>2240.000000</td>\n",
       "      <td>2240.000000</td>\n",
       "      <td>2240.000000</td>\n",
       "      <td>2240.000000</td>\n",
       "      <td>2240.000000</td>\n",
       "      <td>2240.000000</td>\n",
       "      <td>2240.000000</td>\n",
       "      <td>2240.000000</td>\n",
       "      <td>2240.000000</td>\n",
       "      <td>2240.000000</td>\n",
       "      <td>2216.000000</td>\n",
       "    </tr>\n",
       "    <tr>\n",
       "      <th>mean</th>\n",
       "      <td>5592.159821</td>\n",
       "      <td>1968.805804</td>\n",
       "      <td>0.444196</td>\n",
       "      <td>0.506250</td>\n",
       "      <td>49.109375</td>\n",
       "      <td>303.935714</td>\n",
       "      <td>26.302232</td>\n",
       "      <td>166.950000</td>\n",
       "      <td>37.525446</td>\n",
       "      <td>27.062946</td>\n",
       "      <td>44.021875</td>\n",
       "      <td>2.325000</td>\n",
       "      <td>4.084821</td>\n",
       "      <td>2.662054</td>\n",
       "      <td>5.790179</td>\n",
       "      <td>5.316518</td>\n",
       "      <td>0.072768</td>\n",
       "      <td>0.074554</td>\n",
       "      <td>0.072768</td>\n",
       "      <td>0.064286</td>\n",
       "      <td>0.013393</td>\n",
       "      <td>0.149107</td>\n",
       "      <td>0.009375</td>\n",
       "      <td>52247.251354</td>\n",
       "    </tr>\n",
       "    <tr>\n",
       "      <th>std</th>\n",
       "      <td>3246.662198</td>\n",
       "      <td>11.984069</td>\n",
       "      <td>0.538398</td>\n",
       "      <td>0.544538</td>\n",
       "      <td>28.962453</td>\n",
       "      <td>336.597393</td>\n",
       "      <td>39.773434</td>\n",
       "      <td>225.715373</td>\n",
       "      <td>54.628979</td>\n",
       "      <td>41.280498</td>\n",
       "      <td>52.167439</td>\n",
       "      <td>1.932238</td>\n",
       "      <td>2.778714</td>\n",
       "      <td>2.923101</td>\n",
       "      <td>3.250958</td>\n",
       "      <td>2.426645</td>\n",
       "      <td>0.259813</td>\n",
       "      <td>0.262728</td>\n",
       "      <td>0.259813</td>\n",
       "      <td>0.245316</td>\n",
       "      <td>0.114976</td>\n",
       "      <td>0.356274</td>\n",
       "      <td>0.096391</td>\n",
       "      <td>25173.076661</td>\n",
       "    </tr>\n",
       "    <tr>\n",
       "      <th>min</th>\n",
       "      <td>0.000000</td>\n",
       "      <td>1893.000000</td>\n",
       "      <td>0.000000</td>\n",
       "      <td>0.000000</td>\n",
       "      <td>0.000000</td>\n",
       "      <td>0.000000</td>\n",
       "      <td>0.000000</td>\n",
       "      <td>0.000000</td>\n",
       "      <td>0.000000</td>\n",
       "      <td>0.000000</td>\n",
       "      <td>0.000000</td>\n",
       "      <td>0.000000</td>\n",
       "      <td>0.000000</td>\n",
       "      <td>0.000000</td>\n",
       "      <td>0.000000</td>\n",
       "      <td>0.000000</td>\n",
       "      <td>0.000000</td>\n",
       "      <td>0.000000</td>\n",
       "      <td>0.000000</td>\n",
       "      <td>0.000000</td>\n",
       "      <td>0.000000</td>\n",
       "      <td>0.000000</td>\n",
       "      <td>0.000000</td>\n",
       "      <td>1730.000000</td>\n",
       "    </tr>\n",
       "    <tr>\n",
       "      <th>25%</th>\n",
       "      <td>2828.250000</td>\n",
       "      <td>1959.000000</td>\n",
       "      <td>0.000000</td>\n",
       "      <td>0.000000</td>\n",
       "      <td>24.000000</td>\n",
       "      <td>23.750000</td>\n",
       "      <td>1.000000</td>\n",
       "      <td>16.000000</td>\n",
       "      <td>3.000000</td>\n",
       "      <td>1.000000</td>\n",
       "      <td>9.000000</td>\n",
       "      <td>1.000000</td>\n",
       "      <td>2.000000</td>\n",
       "      <td>0.000000</td>\n",
       "      <td>3.000000</td>\n",
       "      <td>3.000000</td>\n",
       "      <td>0.000000</td>\n",
       "      <td>0.000000</td>\n",
       "      <td>0.000000</td>\n",
       "      <td>0.000000</td>\n",
       "      <td>0.000000</td>\n",
       "      <td>0.000000</td>\n",
       "      <td>0.000000</td>\n",
       "      <td>35303.000000</td>\n",
       "    </tr>\n",
       "    <tr>\n",
       "      <th>50%</th>\n",
       "      <td>5458.500000</td>\n",
       "      <td>1970.000000</td>\n",
       "      <td>0.000000</td>\n",
       "      <td>0.000000</td>\n",
       "      <td>49.000000</td>\n",
       "      <td>173.500000</td>\n",
       "      <td>8.000000</td>\n",
       "      <td>67.000000</td>\n",
       "      <td>12.000000</td>\n",
       "      <td>8.000000</td>\n",
       "      <td>24.000000</td>\n",
       "      <td>2.000000</td>\n",
       "      <td>4.000000</td>\n",
       "      <td>2.000000</td>\n",
       "      <td>5.000000</td>\n",
       "      <td>6.000000</td>\n",
       "      <td>0.000000</td>\n",
       "      <td>0.000000</td>\n",
       "      <td>0.000000</td>\n",
       "      <td>0.000000</td>\n",
       "      <td>0.000000</td>\n",
       "      <td>0.000000</td>\n",
       "      <td>0.000000</td>\n",
       "      <td>51381.500000</td>\n",
       "    </tr>\n",
       "    <tr>\n",
       "      <th>75%</th>\n",
       "      <td>8427.750000</td>\n",
       "      <td>1977.000000</td>\n",
       "      <td>1.000000</td>\n",
       "      <td>1.000000</td>\n",
       "      <td>74.000000</td>\n",
       "      <td>504.250000</td>\n",
       "      <td>33.000000</td>\n",
       "      <td>232.000000</td>\n",
       "      <td>50.000000</td>\n",
       "      <td>33.000000</td>\n",
       "      <td>56.000000</td>\n",
       "      <td>3.000000</td>\n",
       "      <td>6.000000</td>\n",
       "      <td>4.000000</td>\n",
       "      <td>8.000000</td>\n",
       "      <td>7.000000</td>\n",
       "      <td>0.000000</td>\n",
       "      <td>0.000000</td>\n",
       "      <td>0.000000</td>\n",
       "      <td>0.000000</td>\n",
       "      <td>0.000000</td>\n",
       "      <td>0.000000</td>\n",
       "      <td>0.000000</td>\n",
       "      <td>68522.000000</td>\n",
       "    </tr>\n",
       "    <tr>\n",
       "      <th>max</th>\n",
       "      <td>11191.000000</td>\n",
       "      <td>1996.000000</td>\n",
       "      <td>2.000000</td>\n",
       "      <td>2.000000</td>\n",
       "      <td>99.000000</td>\n",
       "      <td>1493.000000</td>\n",
       "      <td>199.000000</td>\n",
       "      <td>1725.000000</td>\n",
       "      <td>259.000000</td>\n",
       "      <td>263.000000</td>\n",
       "      <td>362.000000</td>\n",
       "      <td>15.000000</td>\n",
       "      <td>27.000000</td>\n",
       "      <td>28.000000</td>\n",
       "      <td>13.000000</td>\n",
       "      <td>20.000000</td>\n",
       "      <td>1.000000</td>\n",
       "      <td>1.000000</td>\n",
       "      <td>1.000000</td>\n",
       "      <td>1.000000</td>\n",
       "      <td>1.000000</td>\n",
       "      <td>1.000000</td>\n",
       "      <td>1.000000</td>\n",
       "      <td>666666.000000</td>\n",
       "    </tr>\n",
       "  </tbody>\n",
       "</table>\n",
       "</div>"
      ],
      "text/plain": [
       "                 ID   Year_Birth      Kidhome     Teenhome      Recency  \\\n",
       "count   2240.000000  2240.000000  2240.000000  2240.000000  2240.000000   \n",
       "mean    5592.159821  1968.805804     0.444196     0.506250    49.109375   \n",
       "std     3246.662198    11.984069     0.538398     0.544538    28.962453   \n",
       "min        0.000000  1893.000000     0.000000     0.000000     0.000000   \n",
       "25%     2828.250000  1959.000000     0.000000     0.000000    24.000000   \n",
       "50%     5458.500000  1970.000000     0.000000     0.000000    49.000000   \n",
       "75%     8427.750000  1977.000000     1.000000     1.000000    74.000000   \n",
       "max    11191.000000  1996.000000     2.000000     2.000000    99.000000   \n",
       "\n",
       "          MntWines    MntFruits  MntMeatProducts  MntFishProducts  \\\n",
       "count  2240.000000  2240.000000      2240.000000      2240.000000   \n",
       "mean    303.935714    26.302232       166.950000        37.525446   \n",
       "std     336.597393    39.773434       225.715373        54.628979   \n",
       "min       0.000000     0.000000         0.000000         0.000000   \n",
       "25%      23.750000     1.000000        16.000000         3.000000   \n",
       "50%     173.500000     8.000000        67.000000        12.000000   \n",
       "75%     504.250000    33.000000       232.000000        50.000000   \n",
       "max    1493.000000   199.000000      1725.000000       259.000000   \n",
       "\n",
       "       MntSweetProducts  MntGoldProds  NumDealsPurchases  NumWebPurchases  \\\n",
       "count       2240.000000   2240.000000        2240.000000      2240.000000   \n",
       "mean          27.062946     44.021875           2.325000         4.084821   \n",
       "std           41.280498     52.167439           1.932238         2.778714   \n",
       "min            0.000000      0.000000           0.000000         0.000000   \n",
       "25%            1.000000      9.000000           1.000000         2.000000   \n",
       "50%            8.000000     24.000000           2.000000         4.000000   \n",
       "75%           33.000000     56.000000           3.000000         6.000000   \n",
       "max          263.000000    362.000000          15.000000        27.000000   \n",
       "\n",
       "       NumCatalogPurchases  NumStorePurchases  NumWebVisitsMonth  \\\n",
       "count          2240.000000        2240.000000        2240.000000   \n",
       "mean              2.662054           5.790179           5.316518   \n",
       "std               2.923101           3.250958           2.426645   \n",
       "min               0.000000           0.000000           0.000000   \n",
       "25%               0.000000           3.000000           3.000000   \n",
       "50%               2.000000           5.000000           6.000000   \n",
       "75%               4.000000           8.000000           7.000000   \n",
       "max              28.000000          13.000000          20.000000   \n",
       "\n",
       "       AcceptedCmp3  AcceptedCmp4  AcceptedCmp5  AcceptedCmp1  AcceptedCmp2  \\\n",
       "count   2240.000000   2240.000000   2240.000000   2240.000000   2240.000000   \n",
       "mean       0.072768      0.074554      0.072768      0.064286      0.013393   \n",
       "std        0.259813      0.262728      0.259813      0.245316      0.114976   \n",
       "min        0.000000      0.000000      0.000000      0.000000      0.000000   \n",
       "25%        0.000000      0.000000      0.000000      0.000000      0.000000   \n",
       "50%        0.000000      0.000000      0.000000      0.000000      0.000000   \n",
       "75%        0.000000      0.000000      0.000000      0.000000      0.000000   \n",
       "max        1.000000      1.000000      1.000000      1.000000      1.000000   \n",
       "\n",
       "          Response     Complain  Income_Dollars  \n",
       "count  2240.000000  2240.000000     2216.000000  \n",
       "mean      0.149107     0.009375    52247.251354  \n",
       "std       0.356274     0.096391    25173.076661  \n",
       "min       0.000000     0.000000     1730.000000  \n",
       "25%       0.000000     0.000000    35303.000000  \n",
       "50%       0.000000     0.000000    51381.500000  \n",
       "75%       0.000000     0.000000    68522.000000  \n",
       "max       1.000000     1.000000   666666.000000  "
      ]
     },
     "execution_count": 79,
     "metadata": {},
     "output_type": "execute_result"
    }
   ],
   "source": [
    "df.describe()"
   ]
  },
  {
   "cell_type": "markdown",
   "metadata": {},
   "source": [
    "#### ID"
   ]
  },
  {
   "cell_type": "code",
   "execution_count": 80,
   "metadata": {
    "ExecuteTime": {
     "end_time": "2021-02-20T20:35:47.716651Z",
     "start_time": "2021-02-20T20:35:47.711128Z"
    }
   },
   "outputs": [
    {
     "data": {
      "text/plain": [
       "2240"
      ]
     },
     "execution_count": 80,
     "metadata": {},
     "output_type": "execute_result"
    }
   ],
   "source": [
    "df.ID.nunique()"
   ]
  },
  {
   "cell_type": "markdown",
   "metadata": {},
   "source": [
    "All the ID's are unique"
   ]
  },
  {
   "cell_type": "markdown",
   "metadata": {},
   "source": [
    "#### Year_Birth"
   ]
  },
  {
   "cell_type": "markdown",
   "metadata": {},
   "source": [
    "A birth year of 1893 seems unlikely.  I'll take a look at the distribution"
   ]
  },
  {
   "cell_type": "code",
   "execution_count": 83,
   "metadata": {
    "ExecuteTime": {
     "end_time": "2021-02-20T20:37:56.140505Z",
     "start_time": "2021-02-20T20:37:55.748618Z"
    }
   },
   "outputs": [
    {
     "data": {
      "text/plain": [
       "<matplotlib.axes._subplots.AxesSubplot at 0x11e632358>"
      ]
     },
     "execution_count": 83,
     "metadata": {},
     "output_type": "execute_result"
    },
    {
     "data": {
      "image/png": "[encoded data removed]",
      "text/plain": [
       "<Figure size 432x288 with 1 Axes>"
      ]
     },
     "metadata": {
      "needs_background": "light"
     },
     "output_type": "display_data"
    }
   ],
   "source": [
    "df.Year_Birth.hist()"
   ]
  },
  {
   "cell_type": "code",
   "execution_count": 84,
   "metadata": {
    "ExecuteTime": {
     "end_time": "2021-02-20T20:39:15.194108Z",
     "start_time": "2021-02-20T20:39:15.163418Z"
    }
   },
   "outputs": [
    {
     "data": {
      "text/html": [
       "<div>\n",
       "<style scoped>\n",
       "    .dataframe tbody tr th:only-of-type {\n",
       "        vertical-align: middle;\n",
       "    }\n",
       "\n",
       "    .dataframe tbody tr th {\n",
       "        vertical-align: top;\n",
       "    }\n",
       "\n",
       "    .dataframe thead th {\n",
       "        text-align: right;\n",
       "    }\n",
       "</style>\n",
       "<table border=\"1\" class=\"dataframe\">\n",
       "  <thead>\n",
       "    <tr style=\"text-align: right;\">\n",
       "      <th></th>\n",
       "      <th>ID</th>\n",
       "      <th>Year_Birth</th>\n",
       "      <th>Education</th>\n",
       "      <th>Marital_Status</th>\n",
       "      <th>Income</th>\n",
       "      <th>Kidhome</th>\n",
       "      <th>Teenhome</th>\n",
       "      <th>Dt_Customer</th>\n",
       "      <th>Recency</th>\n",
       "      <th>MntWines</th>\n",
       "      <th>MntFruits</th>\n",
       "      <th>MntMeatProducts</th>\n",
       "      <th>MntFishProducts</th>\n",
       "      <th>MntSweetProducts</th>\n",
       "      <th>MntGoldProds</th>\n",
       "      <th>NumDealsPurchases</th>\n",
       "      <th>NumWebPurchases</th>\n",
       "      <th>NumCatalogPurchases</th>\n",
       "      <th>NumStorePurchases</th>\n",
       "      <th>NumWebVisitsMonth</th>\n",
       "      <th>AcceptedCmp3</th>\n",
       "      <th>AcceptedCmp4</th>\n",
       "      <th>AcceptedCmp5</th>\n",
       "      <th>AcceptedCmp1</th>\n",
       "      <th>AcceptedCmp2</th>\n",
       "      <th>Response</th>\n",
       "      <th>Complain</th>\n",
       "      <th>Country</th>\n",
       "      <th>Income_Dollars</th>\n",
       "      <th>Marital_Status_Clean</th>\n",
       "    </tr>\n",
       "  </thead>\n",
       "  <tbody>\n",
       "    <tr>\n",
       "      <th>513</th>\n",
       "      <td>11004</td>\n",
       "      <td>1893</td>\n",
       "      <td>2n Cycle</td>\n",
       "      <td>Single</td>\n",
       "      <td>$60,182.00</td>\n",
       "      <td>0</td>\n",
       "      <td>1</td>\n",
       "      <td>2014-05-17</td>\n",
       "      <td>23</td>\n",
       "      <td>8</td>\n",
       "      <td>0</td>\n",
       "      <td>5</td>\n",
       "      <td>7</td>\n",
       "      <td>0</td>\n",
       "      <td>2</td>\n",
       "      <td>1</td>\n",
       "      <td>1</td>\n",
       "      <td>0</td>\n",
       "      <td>2</td>\n",
       "      <td>4</td>\n",
       "      <td>0</td>\n",
       "      <td>0</td>\n",
       "      <td>0</td>\n",
       "      <td>0</td>\n",
       "      <td>0</td>\n",
       "      <td>0</td>\n",
       "      <td>0</td>\n",
       "      <td>SA</td>\n",
       "      <td>60182.0</td>\n",
       "      <td>Single</td>\n",
       "    </tr>\n",
       "  </tbody>\n",
       "</table>\n",
       "</div>"
      ],
      "text/plain": [
       "        ID  Year_Birth Education Marital_Status       Income  Kidhome  \\\n",
       "513  11004        1893  2n Cycle         Single  $60,182.00         0   \n",
       "\n",
       "     Teenhome Dt_Customer  Recency  MntWines  MntFruits  MntMeatProducts  \\\n",
       "513         1  2014-05-17       23         8          0                5   \n",
       "\n",
       "     MntFishProducts  MntSweetProducts  MntGoldProds  NumDealsPurchases  \\\n",
       "513                7                 0             2                  1   \n",
       "\n",
       "     NumWebPurchases  NumCatalogPurchases  NumStorePurchases  \\\n",
       "513                1                    0                  2   \n",
       "\n",
       "     NumWebVisitsMonth  AcceptedCmp3  AcceptedCmp4  AcceptedCmp5  \\\n",
       "513                  4             0             0             0   \n",
       "\n",
       "     AcceptedCmp1  AcceptedCmp2  Response  Complain Country  Income_Dollars  \\\n",
       "513             0             0         0         0      SA         60182.0   \n",
       "\n",
       "    Marital_Status_Clean  \n",
       "513               Single  "
      ]
     },
     "execution_count": 84,
     "metadata": {},
     "output_type": "execute_result"
    }
   ],
   "source": [
    "df[df.Year_Birth == 1893]"
   ]
  },
  {
   "cell_type": "markdown",
   "metadata": {},
   "source": [
    "1893 looks like Bad Data, the other data in the row is on the low end but may be valuable"
   ]
  },
  {
   "cell_type": "code",
   "execution_count": null,
   "metadata": {},
   "outputs": [],
   "source": []
  }
 ],
 "metadata": {
  "kernelspec": {
   "display_name": "learn-env",
   "language": "python",
   "name": "learn-env"
  },
  "language_info": {
   "codemirror_mode": {
    "name": "ipython",
    "version": 3
   },
   "file_extension": ".py",
   "mimetype": "text/x-python",
   "name": "python",
   "nbconvert_exporter": "python",
   "pygments_lexer": "ipython3",
   "version": "3.6.9"
  },
  "toc": {
   "base_numbering": 1,
   "nav_menu": {},
   "number_sections": true,
   "sideBar": true,
   "skip_h1_title": false,
   "title_cell": "Table of Contents",
   "title_sidebar": "Contents",
   "toc_cell": false,
   "toc_position": {},
   "toc_section_display": true,
   "toc_window_display": false
  },
  "varInspector": {
   "cols": {
    "lenName": 16,
    "lenType": 16,
    "lenVar": 40
   },
   "kernels_config": {
    "python": {
     "delete_cmd_postfix": "",
     "delete_cmd_prefix": "del ",
     "library": "var_list.py",
     "varRefreshCmd": "print(var_dic_list())"
    },
    "r": {
     "delete_cmd_postfix": ") ",
     "delete_cmd_prefix": "rm(",
     "library": "var_list.r",
     "varRefreshCmd": "cat(var_dic_list()) "
    }
   },
   "types_to_exclude": [
    "module",
    "function",
    "builtin_function_or_method",
    "instance",
    "_Feature"
   ],
   "window_display": false
  }
 },
 "nbformat": 4,
 "nbformat_minor": 2
}
